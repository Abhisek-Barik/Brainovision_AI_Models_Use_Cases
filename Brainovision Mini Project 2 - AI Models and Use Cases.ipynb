{
 "cells": [
  {
   "cell_type": "markdown",
   "id": "8a5b2fa2-97aa-4416-8cf0-f5546553a814",
   "metadata": {},
   "source": [
    "# 🤖AI Model Benchmarking: A Data-Driven Exploration🎯  "
   ]
  },
  {
   "cell_type": "markdown",
   "id": "c7af398c-aa20-4190-a55e-592be61ed15c",
   "metadata": {},
   "source": [
    "## 👋Hi, I'm Abhisek! Exploring AI & DS, this notebook compares top AI models across various use cases - from sentiment analysis to image generation. Using Python🐍, I evaluate their strengths, scores, and map them to the right ML task types✨"
   ]
  },
  {
   "cell_type": "code",
   "execution_count": 3,
   "id": "5c09bc5e-4b54-4c02-a185-321cb0d32660",
   "metadata": {},
   "outputs": [],
   "source": [
    "# Import all necessary libraries\n",
    "import pandas as pd, difflib\n",
    "import matplotlib.pyplot as plt\n",
    "import seaborn as sns\n",
    "from sklearn.preprocessing import MinMaxScaler"
   ]
  },
  {
   "cell_type": "code",
   "execution_count": 4,
   "id": "f717fed0-0817-438c-b723-665a451011bf",
   "metadata": {},
   "outputs": [
    {
     "name": "stdout",
     "output_type": "stream",
     "text": [
      "✅ Dataset Loaded Succesfully:\n"
     ]
    },
    {
     "data": {
      "text/html": [
       "<div>\n",
       "<style scoped>\n",
       "    .dataframe tbody tr th:only-of-type {\n",
       "        vertical-align: middle;\n",
       "    }\n",
       "\n",
       "    .dataframe tbody tr th {\n",
       "        vertical-align: top;\n",
       "    }\n",
       "\n",
       "    .dataframe thead th {\n",
       "        text-align: right;\n",
       "    }\n",
       "</style>\n",
       "<table border=\"1\" class=\"dataframe\">\n",
       "  <thead>\n",
       "    <tr style=\"text-align: right;\">\n",
       "      <th></th>\n",
       "      <th>AI Model</th>\n",
       "      <th>Use Case</th>\n",
       "      <th>Logic</th>\n",
       "      <th>Reasoning</th>\n",
       "      <th>Coding</th>\n",
       "      <th>Maths</th>\n",
       "      <th>Creativity</th>\n",
       "      <th>Memory</th>\n",
       "      <th>Speed</th>\n",
       "      <th>Accuracy</th>\n",
       "      <th>Comprehension</th>\n",
       "      <th>Multimodal</th>\n",
       "    </tr>\n",
       "  </thead>\n",
       "  <tbody>\n",
       "    <tr>\n",
       "      <th>0</th>\n",
       "      <td>GPT-4</td>\n",
       "      <td>Summarization</td>\n",
       "      <td>9</td>\n",
       "      <td>7</td>\n",
       "      <td>5</td>\n",
       "      <td>6</td>\n",
       "      <td>10</td>\n",
       "      <td>5</td>\n",
       "      <td>5</td>\n",
       "      <td>7</td>\n",
       "      <td>10</td>\n",
       "      <td>9</td>\n",
       "    </tr>\n",
       "    <tr>\n",
       "      <th>1</th>\n",
       "      <td>GPT-4</td>\n",
       "      <td>Translation</td>\n",
       "      <td>8</td>\n",
       "      <td>10</td>\n",
       "      <td>5</td>\n",
       "      <td>5</td>\n",
       "      <td>6</td>\n",
       "      <td>7</td>\n",
       "      <td>6</td>\n",
       "      <td>8</td>\n",
       "      <td>7</td>\n",
       "      <td>8</td>\n",
       "    </tr>\n",
       "    <tr>\n",
       "      <th>2</th>\n",
       "      <td>GPT-4</td>\n",
       "      <td>Code Generation</td>\n",
       "      <td>7</td>\n",
       "      <td>6</td>\n",
       "      <td>10</td>\n",
       "      <td>10</td>\n",
       "      <td>9</td>\n",
       "      <td>9</td>\n",
       "      <td>10</td>\n",
       "      <td>8</td>\n",
       "      <td>7</td>\n",
       "      <td>9</td>\n",
       "    </tr>\n",
       "    <tr>\n",
       "      <th>3</th>\n",
       "      <td>GPT-4</td>\n",
       "      <td>Math Problem Solving</td>\n",
       "      <td>6</td>\n",
       "      <td>7</td>\n",
       "      <td>6</td>\n",
       "      <td>5</td>\n",
       "      <td>5</td>\n",
       "      <td>8</td>\n",
       "      <td>9</td>\n",
       "      <td>6</td>\n",
       "      <td>6</td>\n",
       "      <td>9</td>\n",
       "    </tr>\n",
       "    <tr>\n",
       "      <th>4</th>\n",
       "      <td>GPT-4</td>\n",
       "      <td>Text Completion</td>\n",
       "      <td>8</td>\n",
       "      <td>9</td>\n",
       "      <td>6</td>\n",
       "      <td>8</td>\n",
       "      <td>5</td>\n",
       "      <td>8</td>\n",
       "      <td>7</td>\n",
       "      <td>5</td>\n",
       "      <td>6</td>\n",
       "      <td>9</td>\n",
       "    </tr>\n",
       "  </tbody>\n",
       "</table>\n",
       "</div>"
      ],
      "text/plain": [
       "  AI Model              Use Case  Logic   Reasoning   Coding   Maths  \\\n",
       "0    GPT-4         Summarization       9           7        5      6   \n",
       "1    GPT-4           Translation       8          10        5      5   \n",
       "2    GPT-4       Code Generation       7           6       10     10   \n",
       "3    GPT-4  Math Problem Solving       6           7        6      5   \n",
       "4    GPT-4       Text Completion       8           9        6      8   \n",
       "\n",
       "   Creativity  Memory   Speed   Accuracy   Comprehension   Multimodal   \n",
       "0          10        5       5          7              10            9  \n",
       "1           6        7       6          8               7            8  \n",
       "2           9        9      10          8               7            9  \n",
       "3           5        8       9          6               6            9  \n",
       "4           5        8       7          5               6            9  "
      ]
     },
     "execution_count": 4,
     "metadata": {},
     "output_type": "execute_result"
    }
   ],
   "source": [
    "# Load & Describe Data\n",
    "df = pd.read_csv(\"C:/Users/HP/OneDrive/Desktop/Brainovision/Python Basics/Pawan Sir/AI_Models_Use_Cases_Details.csv\")\n",
    "print(\"✅ Dataset Loaded Succesfully:\")\n",
    "df.head()"
   ]
  },
  {
   "cell_type": "code",
   "execution_count": 5,
   "id": "128d5f5f-3e75-4857-9cf1-8e8566109174",
   "metadata": {},
   "outputs": [
    {
     "name": "stdout",
     "output_type": "stream",
     "text": [
      "=========================================================================================================================================================\n",
      "🤖 AI Tools Used --> Claude 3, Cohere, Command R+, GPT-4, Gemini 1.5, LLaMA 3, Mistral\n",
      "---------------------------------------------------------------------------------------------------------------------------------------------------------\n",
      "🎯 Use Cases --> Chatbot Support, Code Generation, Data Analysis, Email Writing, Financial Forecasting, Game Playing, Image Captioning, Legal Document Review, Math Problem Solving, Medical Diagnosis Support, Question Answering, Recommendation System, Resume Screening, Scientific Research Assistance, Sentiment Analysis, Speech Recognition, Story Writing, Summarization, Text Completion, Translation\n",
      "=========================================================================================================================================================\n"
     ]
    }
   ],
   "source": [
    "# Display all unique AI Tools & Use Cases in this dataset\n",
    "print(\"=\" * 153)\n",
    "print(\"🤖 AI Tools Used --> \" + ', '.join(sorted(df['AI Model'].unique())))\n",
    "print(\"-\" * 153)\n",
    "print(\"🎯 Use Cases --> \" + ', '.join(sorted(df['Use Case'].unique())))\n",
    "print(\"=\" * 153)"
   ]
  },
  {
   "cell_type": "code",
   "execution_count": 6,
   "id": "dec0b9e3-ede0-4403-8576-3a095cba6ce2",
   "metadata": {},
   "outputs": [
    {
     "name": "stdout",
     "output_type": "stream",
     "text": [
      "======================================================================================================================================================\n",
      "                                                           🔍 Column Type Analysis:\n",
      "======================================================================================================================================================\n",
      "1. 📁Categorical Columns (2): ['AI Model', 'Use Case']\n",
      "2. 📊Numeric Columns (10): ['Logic ', 'Reasoning ', 'Coding ', 'Maths', 'Creativity', 'Memory ', 'Speed ', 'Accuracy ', 'Comprehension ', 'Multimodal ']\n"
     ]
    }
   ],
   "source": [
    "# Exploring Column Types\n",
    "cat_cols = df.select_dtypes(include='object').columns.tolist()\n",
    "num_cols = df.select_dtypes(exclude='object').columns.tolist()\n",
    "print(\"=\" * 150)\n",
    "print(\"                                                           🔍 Column Type Analysis:\")\n",
    "print(\"=\" * 150)\n",
    "print(f\"1. 📁Categorical Columns ({len(cat_cols)}): {cat_cols}\")\n",
    "print(f\"2. 📊Numeric Columns ({len(num_cols)}): {num_cols}\")"
   ]
  },
  {
   "cell_type": "code",
   "execution_count": 7,
   "id": "8e0850ff-1a32-49bf-ae94-1771cfa92076",
   "metadata": {},
   "outputs": [
    {
     "name": "stdout",
     "output_type": "stream",
     "text": [
      "******************************************************************************************************************************************************\n"
     ]
    },
    {
     "name": "stdin",
     "output_type": "stream",
     "text": [
      "🔍 Enter your AI use case (e.g., 'image generation', 'sentiment analysis'):  text\n"
     ]
    },
    {
     "name": "stdout",
     "output_type": "stream",
     "text": [
      "------------------------------------------------------------------------------------------\n",
      "🎯 Matched Use Case: Text Completion\n",
      "------------------------------------------------------------------------------------------\n",
      "🤖 Best AI Model: Cohere\n",
      "📈 Total Normalized Score: 82.00 / 100\n",
      "🔝 Strengths: Logic , Reasoning , Maths\n",
      "🧠 Task Type: SEQUENCE GENERATION\n"
     ]
    },
    {
     "data": {
      "image/png": "[encoded data removed]",
      "text/plain": [
       "<Figure size 1400x600 with 1 Axes>"
      ]
     },
     "metadata": {},
     "output_type": "display_data"
    },
    {
     "name": "stdout",
     "output_type": "stream",
     "text": [
      "******************************************************************************************************************************************************\n"
     ]
    }
   ],
   "source": [
    "# 📥 User Input\n",
    "print(\"*\" * 150)\n",
    "query = input(\"🔍 Enter your AI use case (e.g., 'image generation', 'sentiment analysis'): \").strip().lower()\n",
    "use_cases = df[\"Use Case\"].str.lower().unique().tolist()\n",
    "match = difflib.get_close_matches(query, use_cases, n=1, cutoff=0.3)\n",
    "\n",
    "if not match:\n",
    "    print(\"❌ No close match found.\")\n",
    "else:\n",
    "    use_case = match[0]\n",
    "    print(\"-\" * 90)\n",
    "    print(f\"🎯 Matched Use Case: {use_case.title()}\")\n",
    "    print(\"-\" * 90)\n",
    "    \n",
    "    # 🔍 Filter Data for Matched Use Case\n",
    "    sub = df[df[\"Use Case\"].str.lower() == use_case].copy()\n",
    "    bench_cols = [c for c in sub.columns if c not in [\"AI Model\", \"Use Case\"]]\n",
    "\n",
    "    # 📊 Normalize Scores\n",
    "    sub[bench_cols] = MinMaxScaler().fit_transform(sub[bench_cols])\n",
    "    sub[\"Total Score\"] = sub[bench_cols].sum(axis=1) * 10\n",
    "\n",
    "    # 🥇 Best Model & Top 3 Strengths\n",
    "    best = sub.loc[sub[\"Total Score\"].idxmax()]\n",
    "    top3 = best[bench_cols].sort_values(ascending=False).head(3).index.tolist()\n",
    "\n",
    "    # 🧠 ML Task Type Detection\n",
    "    task_map = {\n",
    "        \"Classification\": [\"classification\", \"classify\", \"sentiment\", \"spam\", \"emotion\", \"topic\", \"toxicity\", \"language detection\", \"object classification\"],\n",
    "        \"Regression\": [\"regression\", \"forecast\", \"prediction\", \"price\", \"sales\", \"demand\", \"stock\", \"weather\", \"age\", \"score\"],\n",
    "        \"Clustering\": [\"clustering\", \"cluster\", \"segmentation\", \"grouping\", \"topic modeling\", \"community\"],\n",
    "        \"Sequence Generation\": [\"generation\", \"completion\", \"caption\", \"language modeling\", \"summarization\", \"translation\", \"story\", \"text generation\", \"question\"]\n",
    "    }\n",
    "\n",
    "    task_type = \"Unknown\"\n",
    "    for task, keywords in task_map.items():\n",
    "        if any(k in use_case.lower() for k in keywords):\n",
    "            task_type = task\n",
    "            break\n",
    "\n",
    "    # 📋 Final Output Summary\n",
    "    print(f\"🤖 Best AI Model: {best['AI Model']}\")\n",
    "    print(f\"📈 Total Normalized Score: {best['Total Score']:.2f} / 100\")\n",
    "    print(f\"🔝 Strengths: {', '.join(top3)}\")\n",
    "    print(f\"🧠 Task Type: {task_type.upper()}\")\n",
    "\n",
    "    # 📊 Visualization\n",
    "    sns.set(style=\"whitegrid\")\n",
    "    plt.rcParams.update({'figure.figsize': (14, 6), 'axes.titlesize': 16, 'axes.labelsize': 13})\n",
    "    sns.barplot(data=sub, x=\"AI Model\", y=\"Total Score\", hue=\"AI Model\", palette=\"tab10\", legend=False)\n",
    "    plt.title(f\"AI Model Scores for '{use_case.title()}'\", fontsize=15)\n",
    "    plt.xlabel(\"Different AI Models\")\n",
    "    plt.ylabel(\"Normalized Score (0–100)\")\n",
    "    plt.ylim(0, 100)\n",
    "    plt.xticks(rotation=30)\n",
    "    plt.grid(axis='y', linestyle='--', alpha=0.6)\n",
    "    plt.tight_layout()\n",
    "    plt.show()\n",
    "    print(\"*\" * 150)"
   ]
  },
  {
   "cell_type": "markdown",
   "id": "3adb2e32-6cca-4e31-b486-330bccd0ef35",
   "metadata": {},
   "source": [
    "### ✅ Summary\n",
    "#### 1. Built an interactive AI model benchmarking tool 🚀\n",
    "#### 2. Automatically identifies best model for any use case 🤖\n",
    "#### 3. Visualizes model performance with bold, colorful charts 📊\n",
    "#### 4. Detects the correct ML task type intelligently 🧠\n",
    "\n",
    "#### 🙌 Follow for more real-world AI + Data Science projects!"
   ]
  }
 ],
 "metadata": {
  "kernelspec": {
   "display_name": "Python [conda env:base] *",
   "language": "python",
   "name": "conda-base-py"
  },
  "language_info": {
   "codemirror_mode": {
    "name": "ipython",
    "version": 3
   },
   "file_extension": ".py",
   "mimetype": "text/x-python",
   "name": "python",
   "nbconvert_exporter": "python",
   "pygments_lexer": "ipython3",
   "version": "3.12.7"
  }
 },
 "nbformat": 4,
 "nbformat_minor": 5
}
